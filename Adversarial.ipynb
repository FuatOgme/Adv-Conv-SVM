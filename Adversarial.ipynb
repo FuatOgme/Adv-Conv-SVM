{
 "cells": [
  {
   "cell_type": "code",
   "execution_count": 6,
   "metadata": {},
   "outputs": [],
   "source": [
    "import keras\n",
    "from keras.models import Sequential\n",
    "from keras.utils import to_categorical\n",
    "from keras.preprocessing.image import ImageDataGenerator\n",
    "from keras.layers import Dense, Activation, Flatten, Dropout, BatchNormalization\n",
    "from keras.layers import Conv2D, MaxPooling2D\n",
    "from keras.datasets import cifar10\n",
    "from keras import regularizers, optimizers\n",
    "import numpy as np\n",
    "from keras.models import load_model\n"
   ]
  },
  {
   "cell_type": "code",
   "execution_count": null,
   "metadata": {},
   "outputs": [],
   "source": [
    "model = load_model(\"cifar4_CNN_Epoch_100_Daug_True.h5\")\n",
    "model.summary()"
   ]
  },
  {
   "cell_type": "code",
   "execution_count": null,
   "metadata": {},
   "outputs": [],
   "source": [
    "NUM_CLASSES = 10\n",
    "(x_train, y_train), (x_test, y_test) = cifar10.load_data()\n",
    "\n",
    "# Convert class vectors to binary class matrices.\n",
    "y_train = keras.utils.to_categorical(y_train, NUM_CLASSES)\n",
    "y_test = keras.utils.to_categorical(y_test, NUM_CLASSES)\n",
    "\n",
    "# Normalize the data\n",
    "x_train = x_train.astype('float32')\n",
    "x_test = x_test.astype('float32')\n",
    "x_train /= 255\n",
    "x_test /= 255"
   ]
  },
  {
   "cell_type": "code",
   "execution_count": null,
   "metadata": {},
   "outputs": [],
   "source": [
    "model.compile(loss='categorical_crossentropy',\n",
    "              metrics=['accuracy'],\n",
    "              optimizer='adam')\n",
    "\n",
    "score = model.evaluate(x_test,y_test)\n",
    "score"
   ]
  },
  {
   "cell_type": "code",
   "execution_count": null,
   "metadata": {},
   "outputs": [],
   "source": [
    "import foolbox\n",
    "import numpy as np\n",
    "import UtilHelper as utilh\n",
    "\n",
    "foolmodel = foolbox.models.KerasModel(model, bounds=(0.0,1.0))"
   ]
  },
  {
   "cell_type": "code",
   "execution_count": null,
   "metadata": {},
   "outputs": [],
   "source": [
    "criterion = foolbox.criteria.Misclassification()\n",
    "attack = foolbox.attacks.FGSM(foolmodel, criterion)\n",
    "\n",
    "ind = 654\n",
    "image = x_test[ind]\n",
    "label = np.argmax(y_test[ind])\n",
    "test = model.predict(np.reshape(image,(1,32,32,3)))\n",
    "\n",
    "image.shape\n",
    "utilh.plotImage(image*255)\n",
    "\n",
    "adversarial = attack(image, label,unpack=False)\n",
    "adversarial_image = adversarial.image"
   ]
  },
  {
   "cell_type": "code",
   "execution_count": null,
   "metadata": {},
   "outputs": [],
   "source": [
    "adversarial_predict = model.predict(np.reshape(adversarial_image,(1,32,32,3)))\n",
    "print(\"adv predict: \" + str(np.argmax(adversarial_predict)))\n",
    "test_predict = model.predict(np.reshape(image,(1,32,32,3)))\n",
    "print(\"test predict: \"+ str(np.argmax(test_predict)))\n",
    "label\n",
    "print(\"orj label: \" + str(label))"
   ]
  },
  {
   "cell_type": "code",
   "execution_count": null,
   "metadata": {},
   "outputs": [],
   "source": [
    "utilh.plotAllImages(image*255, adversarial_image*255, np.argmax(adversarial_predict), label)"
   ]
  },
  {
   "cell_type": "code",
   "execution_count": null,
   "metadata": {},
   "outputs": [],
   "source": [
    "from IPython.display import clear_output\n",
    "x_advlist = []\n",
    "y_advlist = []\n",
    "for i in range(0,len(x_train)):\n",
    "    img = x_train[i]\n",
    "    label = np.argmax(y_train[i])\n",
    "    adversarial = attack(img, label, unpack=False)\n",
    "    # in some circumstances, attacks will be failed, control if success\n",
    "    if(adversarial is not None) and (adversarial.image is not None):\n",
    "        if i % (len(x_train)/1000) == 0:\n",
    "            clear_output(wait=True)\n",
    "            print(str(i / (len(x_train)/100)) +\"%\")\n",
    "        x_advlist.append(adversarial.image)\n",
    "        y_advlist.append(y_train[i])"
   ]
  },
  {
   "cell_type": "code",
   "execution_count": null,
   "metadata": {},
   "outputs": [],
   "source": [
    "np.array(x_advlist)"
   ]
  },
  {
   "cell_type": "code",
   "execution_count": null,
   "metadata": {},
   "outputs": [],
   "source": [
    "model.evaluate(np.asarray(x_advlist),np.asarray(y_advlist),verbose=1)"
   ]
  },
  {
   "cell_type": "code",
   "execution_count": null,
   "metadata": {},
   "outputs": [],
   "source": [
    "np.save(\"adversarial_x_train\",np.asarray(x_advlist))\n",
    "np.save(\"adversarial_y_train\",np.asarray(y_advlist))"
   ]
  }
 ],
 "metadata": {
  "kernelspec": {
   "display_name": "MLProjEnvKernel",
   "language": "python",
   "name": "mlprojenvkernel"
  },
  "language_info": {
   "codemirror_mode": {
    "name": "ipython",
    "version": 3
   },
   "file_extension": ".py",
   "mimetype": "text/x-python",
   "name": "python",
   "nbconvert_exporter": "python",
   "pygments_lexer": "ipython3",
   "version": "3.6.7"
  }
 },
 "nbformat": 4,
 "nbformat_minor": 2
}
