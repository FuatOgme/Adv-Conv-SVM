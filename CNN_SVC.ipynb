{
 "cells": [
  {
   "cell_type": "code",
   "execution_count": 3,
   "metadata": {},
   "outputs": [],
   "source": [
    "import keras\n",
    "from keras.models import Model,load_model\n",
    "from keras.datasets import cifar10\n",
    "from keras.utils import to_categorical\n",
    "import numpy as np\n",
    "from sklearn import svm\n",
    "from sklearn.metrics import accuracy_score\n"
   ]
  },
  {
   "cell_type": "code",
   "execution_count": 4,
   "metadata": {},
   "outputs": [],
   "source": [
    "model = load_model(\"cifar4_CNN_Epoch_100_Daug_True.h5\")"
   ]
  },
  {
   "cell_type": "code",
   "execution_count": 5,
   "metadata": {},
   "outputs": [],
   "source": [
    "NUM_CLASSES = 10\n",
    "(x_train, y_train), (x_test, y_test) = cifar10.load_data()\n",
    "\n",
    "# Convert class vectors to binary class matrices.\n",
    "y_train = keras.utils.to_categorical(y_train, NUM_CLASSES)\n",
    "y_test = keras.utils.to_categorical(y_test, NUM_CLASSES)\n",
    "\n",
    "# Normalize the data\n",
    "x_train = x_train.astype('float32')\n",
    "x_test = x_test.astype('float32')\n",
    "x_train /= 255 \n",
    "x_test /= 255"
   ]
  },
  {
   "cell_type": "code",
   "execution_count": 6,
   "metadata": {},
   "outputs": [],
   "source": [
    "model.compile(loss='categorical_crossentropy',\n",
    "              metrics=['accuracy'],\n",
    "              optimizer='adam')\n"
   ]
  },
  {
   "cell_type": "code",
   "execution_count": 7,
   "metadata": {},
   "outputs": [],
   "source": [
    "# adv_x_train = np.load(\"adversarial_x_train.npy\")\n",
    "# adv_y_train = np.load(\"adversarial_y_train.npy\")\n",
    "adv_x_test = np.load(\"adversarial_x_test.npy\")\n",
    "adv_y_test = np.load(\"adversarial_y_test.npy\")"
   ]
  },
  {
   "cell_type": "code",
   "execution_count": 8,
   "metadata": {},
   "outputs": [],
   "source": [
    "base_model = Model(inputs=model.input, outputs=model.layers[24].output)\n",
    "x_train_flat = base_model.predict(x_train)\n",
    "\n",
    "y_train_flat = np.argmax(y_train,axis=1)\n",
    "x_test_flat =  base_model.predict(x_test)\n",
    "y_test_flat =  np.argmax(y_test,axis=1)\n",
    "x_test_adv_flat = base_model.predict(adv_x_test)\n",
    "y_test_adv_flat = np.argmax(adv_y_test,axis=1)\n"
   ]
  },
  {
   "cell_type": "code",
   "execution_count": 9,
   "metadata": {},
   "outputs": [
    {
     "name": "stdout",
     "output_type": "stream",
     "text": [
      "[LibLinear]"
     ]
    },
    {
     "data": {
      "text/plain": [
       "LinearSVC(C=0.1, class_weight=None, dual=True, fit_intercept=True,\n",
       "     intercept_scaling=1, loss='squared_hinge', max_iter=1000,\n",
       "     multi_class='ovr', penalty='l2', random_state=0, tol=0.001, verbose=1)"
      ]
     },
     "execution_count": 9,
     "metadata": {},
     "output_type": "execute_result"
    }
   ],
   "source": [
    "clf_svm = svm.LinearSVC(random_state=0, tol=1e-3,verbose=1, C=0.1)\n",
    "clf_svm.fit(x_train_flat, y_train_flat)"
   ]
  },
  {
   "cell_type": "code",
   "execution_count": 20,
   "metadata": {},
   "outputs": [],
   "source": [
    "from sklearn.ensemble import RandomForestClassifier"
   ]
  },
  {
   "cell_type": "code",
   "execution_count": 34,
   "metadata": {},
   "outputs": [],
   "source": [
    "clf_rf = RandomForestClassifier(n_estimators=100)"
   ]
  },
  {
   "cell_type": "code",
   "execution_count": 35,
   "metadata": {},
   "outputs": [
    {
     "data": {
      "text/plain": [
       "RandomForestClassifier(bootstrap=True, class_weight=None, criterion='gini',\n",
       "            max_depth=None, max_features='auto', max_leaf_nodes=None,\n",
       "            min_impurity_decrease=0.0, min_impurity_split=None,\n",
       "            min_samples_leaf=1, min_samples_split=2,\n",
       "            min_weight_fraction_leaf=0.0, n_estimators=100, n_jobs=None,\n",
       "            oob_score=False, random_state=None, verbose=0,\n",
       "            warm_start=False)"
      ]
     },
     "execution_count": 35,
     "metadata": {},
     "output_type": "execute_result"
    }
   ],
   "source": [
    "clf_rf.fit(x_train_flat, y_train_flat)"
   ]
  },
  {
   "cell_type": "code",
   "execution_count": 38,
   "metadata": {},
   "outputs": [
    {
     "name": "stdout",
     "output_type": "stream",
     "text": [
      "RF Train accuracy: 1.0\n",
      "RF Test accuracy: 0.8494\n",
      "RF Adversarial accuracy: 0.5083056478405316\n"
     ]
    }
   ],
   "source": [
    "print('RF Train accuracy:', accuracy_score(y_train_flat, clf_rf.predict(x_train_flat)))\n",
    "print('RF Test accuracy:', accuracy_score(y_test_flat,clf_rf.predict(x_test_flat)))\n",
    "print('RF Adversarial accuracy:', accuracy_score(y_test_adv_flat,clf_rf.predict(x_test_adv_flat)))"
   ]
  },
  {
   "cell_type": "code",
   "execution_count": 39,
   "metadata": {},
   "outputs": [
    {
     "name": "stdout",
     "output_type": "stream",
     "text": [
      "CNN Train accuracy: 0.9325\n",
      "CNN Test accuracy: 0.8828\n",
      "CNN Adversarial accuracy: 0.0\n"
     ]
    }
   ],
   "source": [
    "print('CNN Train accuracy:', model.evaluate(x_train,y_train,verbose=0)[1])\n",
    "print('CNN Test accuracy:', model.evaluate(x_test,y_test,verbose=0)[1])\n",
    "print('CNN Adversarial accuracy:',  model.evaluate(adv_x_test,adv_y_test,verbose=0)[1])"
   ]
  },
  {
   "cell_type": "code",
   "execution_count": 40,
   "metadata": {},
   "outputs": [
    {
     "name": "stdout",
     "output_type": "stream",
     "text": [
      "SVM Train accuracy: 0.93302\n",
      "SVM Test accuracy: 0.884\n",
      "SVM Adversarial accuracy: 0.46572032618544246\n"
     ]
    }
   ],
   "source": [
    "print('SVM Train accuracy:', accuracy_score(y_train_flat, clf_svm.predict(x_train_flat)))\n",
    "print('SVM Test accuracy:', accuracy_score(y_test_flat,clf_svm.predict(x_test_flat)))\n",
    "print('SVM Adversarial accuracy:', accuracy_score(y_test_adv_flat,clf_svm.predict(x_test_adv_flat)))"
   ]
  },
  {
   "cell_type": "code",
   "execution_count": null,
   "metadata": {},
   "outputs": [],
   "source": []
  }
 ],
 "metadata": {
  "kernelspec": {
   "display_name": "MLProjEnvKernel",
   "language": "python",
   "name": "mlprojenvkernel"
  },
  "language_info": {
   "codemirror_mode": {
    "name": "ipython",
    "version": 3
   },
   "file_extension": ".py",
   "mimetype": "text/x-python",
   "name": "python",
   "nbconvert_exporter": "python",
   "pygments_lexer": "ipython3",
   "version": "3.6.7"
  }
 },
 "nbformat": 4,
 "nbformat_minor": 2
}
